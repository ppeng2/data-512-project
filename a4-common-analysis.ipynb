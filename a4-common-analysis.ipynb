{
 "cells": [
  {
   "cell_type": "markdown",
   "metadata": {},
   "source": [
    "# A4: Common Analysis\n",
    "Patrick Peng (ID: 2029888)  \n",
    "DATA 512, Autumn 2021\n",
    "\n",
    "Assigned county: Milwaukee County, Wisconsin"
   ]
  },
  {
   "cell_type": "code",
   "execution_count": 1,
   "metadata": {},
   "outputs": [],
   "source": [
    "import pandas as pd\n",
    "import numpy as np\n",
    "import matplotlib.pyplot as plt\n",
    "import matplotlib.dates as mdates"
   ]
  },
  {
   "cell_type": "markdown",
   "metadata": {},
   "source": [
    "## Step 0: Data acquisition\n",
    "\n",
    "I have already downloaded the raw data on case counts, mask mandates, and mask usage and saved them in the `data` folder. Because this analysis is focused on Milwaukee County, Wisconsin, I will just extract data relevant to this specific county.\n",
    "\n",
    "First, the confirmed cases dataset:"
   ]
  },
  {
   "cell_type": "code",
   "execution_count": 2,
   "metadata": {},
   "outputs": [],
   "source": [
    "# Read in the full dataset\n",
    "case_data_full = pd.read_csv('data/RAW_us_confirmed_cases.csv')\n",
    "\n",
    "# Filter down to Milwaukee Co only, and melt from wide to long\n",
    "case_data_mke = case_data_full[(case_data_full['Province_State']=='Wisconsin') & (case_data_full['Admin2']=='Milwaukee')]\n",
    "case_data_mke = pd.melt(case_data_mke,id_vars=case_data_mke.columns[:11],var_name='Date',value_name='Total Cases')\n",
    "case_data_mke['Date'] = pd.to_datetime(case_data_mke['Date'])"
   ]
  },
  {
   "cell_type": "code",
   "execution_count": 3,
   "metadata": {},
   "outputs": [
    {
     "data": {
      "text/html": [
       "<div>\n",
       "<style scoped>\n",
       "    .dataframe tbody tr th:only-of-type {\n",
       "        vertical-align: middle;\n",
       "    }\n",
       "\n",
       "    .dataframe tbody tr th {\n",
       "        vertical-align: top;\n",
       "    }\n",
       "\n",
       "    .dataframe thead th {\n",
       "        text-align: right;\n",
       "    }\n",
       "</style>\n",
       "<table border=\"1\" class=\"dataframe\">\n",
       "  <thead>\n",
       "    <tr style=\"text-align: right;\">\n",
       "      <th></th>\n",
       "      <th>Province_State</th>\n",
       "      <th>Admin2</th>\n",
       "      <th>UID</th>\n",
       "      <th>iso2</th>\n",
       "      <th>iso3</th>\n",
       "      <th>code3</th>\n",
       "      <th>FIPS</th>\n",
       "      <th>Country_Region</th>\n",
       "      <th>Lat</th>\n",
       "      <th>Long_</th>\n",
       "      <th>Combined_Key</th>\n",
       "      <th>Date</th>\n",
       "      <th>Total Cases</th>\n",
       "    </tr>\n",
       "  </thead>\n",
       "  <tbody>\n",
       "    <tr>\n",
       "      <th>0</th>\n",
       "      <td>Wisconsin</td>\n",
       "      <td>Milwaukee</td>\n",
       "      <td>84055079</td>\n",
       "      <td>US</td>\n",
       "      <td>USA</td>\n",
       "      <td>840</td>\n",
       "      <td>55079.0</td>\n",
       "      <td>US</td>\n",
       "      <td>43.004861</td>\n",
       "      <td>-87.967332</td>\n",
       "      <td>Milwaukee, Wisconsin, US</td>\n",
       "      <td>2020-01-22</td>\n",
       "      <td>0</td>\n",
       "    </tr>\n",
       "    <tr>\n",
       "      <th>1</th>\n",
       "      <td>Wisconsin</td>\n",
       "      <td>Milwaukee</td>\n",
       "      <td>84055079</td>\n",
       "      <td>US</td>\n",
       "      <td>USA</td>\n",
       "      <td>840</td>\n",
       "      <td>55079.0</td>\n",
       "      <td>US</td>\n",
       "      <td>43.004861</td>\n",
       "      <td>-87.967332</td>\n",
       "      <td>Milwaukee, Wisconsin, US</td>\n",
       "      <td>2020-01-23</td>\n",
       "      <td>0</td>\n",
       "    </tr>\n",
       "    <tr>\n",
       "      <th>2</th>\n",
       "      <td>Wisconsin</td>\n",
       "      <td>Milwaukee</td>\n",
       "      <td>84055079</td>\n",
       "      <td>US</td>\n",
       "      <td>USA</td>\n",
       "      <td>840</td>\n",
       "      <td>55079.0</td>\n",
       "      <td>US</td>\n",
       "      <td>43.004861</td>\n",
       "      <td>-87.967332</td>\n",
       "      <td>Milwaukee, Wisconsin, US</td>\n",
       "      <td>2020-01-24</td>\n",
       "      <td>0</td>\n",
       "    </tr>\n",
       "    <tr>\n",
       "      <th>3</th>\n",
       "      <td>Wisconsin</td>\n",
       "      <td>Milwaukee</td>\n",
       "      <td>84055079</td>\n",
       "      <td>US</td>\n",
       "      <td>USA</td>\n",
       "      <td>840</td>\n",
       "      <td>55079.0</td>\n",
       "      <td>US</td>\n",
       "      <td>43.004861</td>\n",
       "      <td>-87.967332</td>\n",
       "      <td>Milwaukee, Wisconsin, US</td>\n",
       "      <td>2020-01-25</td>\n",
       "      <td>0</td>\n",
       "    </tr>\n",
       "    <tr>\n",
       "      <th>4</th>\n",
       "      <td>Wisconsin</td>\n",
       "      <td>Milwaukee</td>\n",
       "      <td>84055079</td>\n",
       "      <td>US</td>\n",
       "      <td>USA</td>\n",
       "      <td>840</td>\n",
       "      <td>55079.0</td>\n",
       "      <td>US</td>\n",
       "      <td>43.004861</td>\n",
       "      <td>-87.967332</td>\n",
       "      <td>Milwaukee, Wisconsin, US</td>\n",
       "      <td>2020-01-26</td>\n",
       "      <td>0</td>\n",
       "    </tr>\n",
       "  </tbody>\n",
       "</table>\n",
       "</div>"
      ],
      "text/plain": [
       "  Province_State     Admin2       UID iso2 iso3  code3     FIPS  \\\n",
       "0      Wisconsin  Milwaukee  84055079   US  USA    840  55079.0   \n",
       "1      Wisconsin  Milwaukee  84055079   US  USA    840  55079.0   \n",
       "2      Wisconsin  Milwaukee  84055079   US  USA    840  55079.0   \n",
       "3      Wisconsin  Milwaukee  84055079   US  USA    840  55079.0   \n",
       "4      Wisconsin  Milwaukee  84055079   US  USA    840  55079.0   \n",
       "\n",
       "  Country_Region        Lat      Long_              Combined_Key       Date  \\\n",
       "0             US  43.004861 -87.967332  Milwaukee, Wisconsin, US 2020-01-22   \n",
       "1             US  43.004861 -87.967332  Milwaukee, Wisconsin, US 2020-01-23   \n",
       "2             US  43.004861 -87.967332  Milwaukee, Wisconsin, US 2020-01-24   \n",
       "3             US  43.004861 -87.967332  Milwaukee, Wisconsin, US 2020-01-25   \n",
       "4             US  43.004861 -87.967332  Milwaukee, Wisconsin, US 2020-01-26   \n",
       "\n",
       "   Total Cases  \n",
       "0            0  \n",
       "1            0  \n",
       "2            0  \n",
       "3            0  \n",
       "4            0  "
      ]
     },
     "execution_count": 3,
     "metadata": {},
     "output_type": "execute_result"
    }
   ],
   "source": [
    "case_data_mke.head(5)"
   ]
  },
  {
   "cell_type": "markdown",
   "metadata": {},
   "source": [
    "We'll note here that the FIPS code for Milwaukee County is 55079. We can use this to filter the NYT mask survey dataset, since it does not include the full name of the county.\n",
    "\n",
    "Next, the mask mandates dataset."
   ]
  },
  {
   "cell_type": "code",
   "execution_count": 4,
   "metadata": {},
   "outputs": [
    {
     "name": "stderr",
     "output_type": "stream",
     "text": [
      "<ipython-input-4-7af6377871db>:3: SettingWithCopyWarning: \n",
      "A value is trying to be set on a copy of a slice from a DataFrame.\n",
      "Try using .loc[row_indexer,col_indexer] = value instead\n",
      "\n",
      "See the caveats in the documentation: https://pandas.pydata.org/pandas-docs/stable/user_guide/indexing.html#returning-a-view-versus-a-copy\n",
      "  mandates_mke['date'] = pd.to_datetime(mandates_mke['date'])\n"
     ]
    }
   ],
   "source": [
    "mandates_full = pd.read_csv('data/U.S._State_and_Territorial_Public_Mask_Mandates_From_April_10__2020_through_August_15__2021_by_County_by_Day.csv')\n",
    "mandates_mke = mandates_full[(mandates_full['State_Tribe_Territory']=='WI') & (mandates_full['County_Name']=='Milwaukee County')]\n",
    "mandates_mke['date'] = pd.to_datetime(mandates_mke['date'])"
   ]
  },
  {
   "cell_type": "code",
   "execution_count": 5,
   "metadata": {},
   "outputs": [
    {
     "data": {
      "text/html": [
       "<div>\n",
       "<style scoped>\n",
       "    .dataframe tbody tr th:only-of-type {\n",
       "        vertical-align: middle;\n",
       "    }\n",
       "\n",
       "    .dataframe tbody tr th {\n",
       "        vertical-align: top;\n",
       "    }\n",
       "\n",
       "    .dataframe thead th {\n",
       "        text-align: right;\n",
       "    }\n",
       "</style>\n",
       "<table border=\"1\" class=\"dataframe\">\n",
       "  <thead>\n",
       "    <tr style=\"text-align: right;\">\n",
       "      <th></th>\n",
       "      <th>State_Tribe_Territory</th>\n",
       "      <th>County_Name</th>\n",
       "      <th>FIPS_State</th>\n",
       "      <th>FIPS_County</th>\n",
       "      <th>date</th>\n",
       "      <th>order_code</th>\n",
       "      <th>Face_Masks_Required_in_Public</th>\n",
       "      <th>Source_of_Action</th>\n",
       "      <th>URL</th>\n",
       "      <th>Citation</th>\n",
       "    </tr>\n",
       "  </thead>\n",
       "  <tbody>\n",
       "    <tr>\n",
       "      <th>820996</th>\n",
       "      <td>WI</td>\n",
       "      <td>Milwaukee County</td>\n",
       "      <td>55</td>\n",
       "      <td>79</td>\n",
       "      <td>2020-04-25</td>\n",
       "      <td>2</td>\n",
       "      <td>NaN</td>\n",
       "      <td>NaN</td>\n",
       "      <td>NaN</td>\n",
       "      <td>NaN</td>\n",
       "    </tr>\n",
       "    <tr>\n",
       "      <th>821053</th>\n",
       "      <td>WI</td>\n",
       "      <td>Milwaukee County</td>\n",
       "      <td>55</td>\n",
       "      <td>79</td>\n",
       "      <td>2020-04-22</td>\n",
       "      <td>2</td>\n",
       "      <td>NaN</td>\n",
       "      <td>NaN</td>\n",
       "      <td>NaN</td>\n",
       "      <td>NaN</td>\n",
       "    </tr>\n",
       "    <tr>\n",
       "      <th>821083</th>\n",
       "      <td>WI</td>\n",
       "      <td>Milwaukee County</td>\n",
       "      <td>55</td>\n",
       "      <td>79</td>\n",
       "      <td>2020-04-23</td>\n",
       "      <td>2</td>\n",
       "      <td>NaN</td>\n",
       "      <td>NaN</td>\n",
       "      <td>NaN</td>\n",
       "      <td>NaN</td>\n",
       "    </tr>\n",
       "    <tr>\n",
       "      <th>821115</th>\n",
       "      <td>WI</td>\n",
       "      <td>Milwaukee County</td>\n",
       "      <td>55</td>\n",
       "      <td>79</td>\n",
       "      <td>2020-04-24</td>\n",
       "      <td>2</td>\n",
       "      <td>NaN</td>\n",
       "      <td>NaN</td>\n",
       "      <td>NaN</td>\n",
       "      <td>NaN</td>\n",
       "    </tr>\n",
       "    <tr>\n",
       "      <th>821146</th>\n",
       "      <td>WI</td>\n",
       "      <td>Milwaukee County</td>\n",
       "      <td>55</td>\n",
       "      <td>79</td>\n",
       "      <td>2020-04-10</td>\n",
       "      <td>2</td>\n",
       "      <td>NaN</td>\n",
       "      <td>NaN</td>\n",
       "      <td>NaN</td>\n",
       "      <td>NaN</td>\n",
       "    </tr>\n",
       "  </tbody>\n",
       "</table>\n",
       "</div>"
      ],
      "text/plain": [
       "       State_Tribe_Territory       County_Name  FIPS_State  FIPS_County  \\\n",
       "820996                    WI  Milwaukee County          55           79   \n",
       "821053                    WI  Milwaukee County          55           79   \n",
       "821083                    WI  Milwaukee County          55           79   \n",
       "821115                    WI  Milwaukee County          55           79   \n",
       "821146                    WI  Milwaukee County          55           79   \n",
       "\n",
       "             date  order_code Face_Masks_Required_in_Public Source_of_Action  \\\n",
       "820996 2020-04-25           2                           NaN              NaN   \n",
       "821053 2020-04-22           2                           NaN              NaN   \n",
       "821083 2020-04-23           2                           NaN              NaN   \n",
       "821115 2020-04-24           2                           NaN              NaN   \n",
       "821146 2020-04-10           2                           NaN              NaN   \n",
       "\n",
       "        URL Citation  \n",
       "820996  NaN      NaN  \n",
       "821053  NaN      NaN  \n",
       "821083  NaN      NaN  \n",
       "821115  NaN      NaN  \n",
       "821146  NaN      NaN  "
      ]
     },
     "execution_count": 5,
     "metadata": {},
     "output_type": "execute_result"
    }
   ],
   "source": [
    "mandates_mke.head(5)"
   ]
  },
  {
   "cell_type": "markdown",
   "metadata": {},
   "source": [
    "Finally, the mask usage survey dataset. We should note here that this is a single point-in-time count taken in July 2020."
   ]
  },
  {
   "cell_type": "code",
   "execution_count": 6,
   "metadata": {},
   "outputs": [],
   "source": [
    "mask_survey_full = pd.read_csv('data/mask-use-by-county.csv')\n",
    "mask_survey_mke = mask_survey_full[mask_survey_full['COUNTYFP']==55079]"
   ]
  },
  {
   "cell_type": "code",
   "execution_count": 7,
   "metadata": {},
   "outputs": [
    {
     "data": {
      "text/html": [
       "<div>\n",
       "<style scoped>\n",
       "    .dataframe tbody tr th:only-of-type {\n",
       "        vertical-align: middle;\n",
       "    }\n",
       "\n",
       "    .dataframe tbody tr th {\n",
       "        vertical-align: top;\n",
       "    }\n",
       "\n",
       "    .dataframe thead th {\n",
       "        text-align: right;\n",
       "    }\n",
       "</style>\n",
       "<table border=\"1\" class=\"dataframe\">\n",
       "  <thead>\n",
       "    <tr style=\"text-align: right;\">\n",
       "      <th></th>\n",
       "      <th>COUNTYFP</th>\n",
       "      <th>NEVER</th>\n",
       "      <th>RARELY</th>\n",
       "      <th>SOMETIMES</th>\n",
       "      <th>FREQUENTLY</th>\n",
       "      <th>ALWAYS</th>\n",
       "    </tr>\n",
       "  </thead>\n",
       "  <tbody>\n",
       "    <tr>\n",
       "      <th>3087</th>\n",
       "      <td>55079</td>\n",
       "      <td>0.053</td>\n",
       "      <td>0.067</td>\n",
       "      <td>0.119</td>\n",
       "      <td>0.264</td>\n",
       "      <td>0.497</td>\n",
       "    </tr>\n",
       "  </tbody>\n",
       "</table>\n",
       "</div>"
      ],
      "text/plain": [
       "      COUNTYFP  NEVER  RARELY  SOMETIMES  FREQUENTLY  ALWAYS\n",
       "3087     55079  0.053   0.067      0.119       0.264   0.497"
      ]
     },
     "execution_count": 7,
     "metadata": {},
     "output_type": "execute_result"
    }
   ],
   "source": [
    "mask_survey_mke"
   ]
  },
  {
   "cell_type": "markdown",
   "metadata": {},
   "source": [
    "## Step 1: Analysis\n",
    "\n",
    "The common question that you are to answer is:  \n",
    "*How did masking policies change the progression of confirmed COVID-19 cases from February 1, 2020 through October 15, 2021?*\n",
    "\n",
    "Answering this question can be a little tricky - and it will be useful for you all (whole class) to discuss this on Slack. We will also spend some time in class on this discussion. Some of the issues that you probably should consider when conducting your analysis include:\n",
    "1. What needs to be cleaned and standardized over the three datasets?\n",
    "2. There is a delay between the time of infection and the time a case is confirmed. Many factors may contribute to such delay. People may not show symptoms right away after infection. It may take a few days for the testing results to become available especially during the early period of the pandemic. Should we model the delay?\n",
    "3. Masking may simply make it longer to get infected or it may prevent some percentage of infection. How should we consider the effect of a mask?\n",
    "4. The research question is about how a time series changes. The infection time series is a set of slopes. Therefore the question is about a derivative function. That is, you want to answer a question about the change in slope over time. How can we test the difference in the derivative function?\n",
    "5. Masking survey data shows probability of compliance in several categories. How can we model different proportions for population compliance?\n",
    "6. Masking policies varied in their implementation (e.g., size of “crowd” required, different situations, restaurants, bars, clubs ...). How should I handle things when my County implemented two different policies at different times?\n",
    "7. The County I was assigned did not implement a masking policy! What is a reasonable way to answer this question? That is, how might I model “voluntary” masking?\n",
    "8. Vaccinations probably impacted the apparent effectiveness of masks. How should we account for different vaccination rates in different populations within the same County?\n"
   ]
  },
  {
   "cell_type": "markdown",
   "metadata": {},
   "source": [
    "[Wikipedia](https://en.wikipedia.org/wiki/Infection_rate) defines infection rate as:  \n",
    "\n",
    "$$\n",
    "\\frac{\\text{number of infections}}{\\text{number at risk for infection}}\n",
    "$$\n",
    "\n",
    "To calculate this, we need to know how many active infections there are at any given day, and how many people there are at risk of infection. We have to make some simplifying assumptions here. I am going to assume that:\n",
    "* It takes 7 days for symptoms to show (the actual number is typically somewhere between 2 and 14 days), and therefore this is the delay between the time an infection occurs and the time that it shows up as a confirmed case\n",
    "* It takes 14 days to recover from COVID after symptoms first appear (based on quarantining guidelines)\n",
    "* Infected people are contagious for the entire duration of their infection\n",
    "* Everybody recovers\n",
    "* There are no reinfections\n",
    "\n",
    "The number of active infections on any given day will be the cumulative number of infections minus the cumulative number of recoveries. There will be a 7 day reporting lag between this and the official daily new case count.\n",
    "\n",
    "The number at risk for infection will be the 2020 Census population of Milwaukee County minus the number of recovered infections.\n"
   ]
  },
  {
   "cell_type": "code",
   "execution_count": 8,
   "metadata": {},
   "outputs": [],
   "source": [
    "# Calculate daily new cases\n",
    "case_data_mke['Daily New Cases'] = case_data_mke['Total Cases'].diff()\n",
    "\n",
    "# Calculate 7-day moving average of daily new cases to smooth out day-to-day volatility\n",
    "# h/t to Grant Savage for the suggestion on Slack\n",
    "case_data_mke['Daily New Cases 7d Avg'] = case_data_mke['Daily New Cases'].rolling(window=7).mean().round()\n",
    "\n",
    "# Per wikipedia, infection rate = (number of infections)/(number at risk of infection)\n",
    "symptom_lag = 7\n",
    "recovery_lag = 14\n",
    "\n",
    "# Number of new infections (-7 day offset from Daily New Cases)\n",
    "case_data_mke['New Infections'] = case_data_mke['Daily New Cases 7d Avg'].shift(periods=-1*symptom_lag)\n",
    "\n",
    "# Cumulative new infections\n",
    "case_data_mke['Cumulative Infections'] = case_data_mke['New Infections'].cumsum()\n",
    "\n",
    "# Number of recoveries (+14 day offset from Daily New Cases)\n",
    "case_data_mke['New Recoveries'] = case_data_mke['Daily New Cases 7d Avg'].shift(periods=recovery_lag)\n",
    "case_data_mke['New Recoveries'] = case_data_mke['New Recoveries'].fillna(value=0)\n",
    "\n",
    "# Cumulative recoveries\n",
    "case_data_mke['Cumulative Recoveries'] = case_data_mke['New Recoveries'].cumsum()\n",
    "\n",
    "# Active infections\n",
    "case_data_mke['Active Infections'] = case_data_mke['Cumulative Infections'] - case_data_mke['Cumulative Recoveries']\n",
    "\n",
    "# Calculate population at risk of infection (assume no reinfections can occur)\n",
    "# Will use total population of Milwaukee Co minus the cumulative number of infections\n",
    "\n",
    "mke_pop = 939489\n",
    "case_data_mke['At Risk'] = mke_pop - case_data_mke['Cumulative Infections']\n",
    "\n",
    "# Infection Rate\n",
    "case_data_mke['Infection Rate'] = (case_data_mke['Active Infections']/case_data_mke['At Risk'])\n",
    "\n",
    "# d(Infection Rate)/dT\n",
    "case_data_mke['Change in Infection Rate'] = (case_data_mke['Infection Rate'].diff())#.rolling(window=7).mean()\n"
   ]
  },
  {
   "cell_type": "code",
   "execution_count": 9,
   "metadata": {},
   "outputs": [
    {
     "data": {
      "text/plain": [
       "0   2020-01-22\n",
       "1   2020-01-23\n",
       "2   2020-01-24\n",
       "3   2020-01-25\n",
       "4   2020-01-26\n",
       "5   2020-01-27\n",
       "6   2020-01-28\n",
       "7   2020-01-29\n",
       "8   2020-01-30\n",
       "9   2020-01-31\n",
       "Name: Date, dtype: datetime64[ns]"
      ]
     },
     "execution_count": 9,
     "metadata": {},
     "output_type": "execute_result"
    }
   ],
   "source": [
    "case_data_mke['Date'].head(10)"
   ]
  },
  {
   "cell_type": "code",
   "execution_count": 10,
   "metadata": {},
   "outputs": [],
   "source": [
    "case_data_mke.dropna(inplace=True)"
   ]
  },
  {
   "cell_type": "code",
   "execution_count": 11,
   "metadata": {},
   "outputs": [],
   "source": [
    "case_data_mke2 = case_data_mke[['Date','Total Cases','Daily New Cases 7d Avg','Infection Rate','Change in Infection Rate']]\n",
    "case_data_mke2.set_index('Date',drop=True,inplace=True)"
   ]
  },
  {
   "cell_type": "code",
   "execution_count": 12,
   "metadata": {},
   "outputs": [
    {
     "data": {
      "text/html": [
       "<div>\n",
       "<style scoped>\n",
       "    .dataframe tbody tr th:only-of-type {\n",
       "        vertical-align: middle;\n",
       "    }\n",
       "\n",
       "    .dataframe tbody tr th {\n",
       "        vertical-align: top;\n",
       "    }\n",
       "\n",
       "    .dataframe thead th {\n",
       "        text-align: right;\n",
       "    }\n",
       "</style>\n",
       "<table border=\"1\" class=\"dataframe\">\n",
       "  <thead>\n",
       "    <tr style=\"text-align: right;\">\n",
       "      <th></th>\n",
       "      <th>Total Cases</th>\n",
       "      <th>Daily New Cases 7d Avg</th>\n",
       "      <th>Infection Rate</th>\n",
       "      <th>Change in Infection Rate</th>\n",
       "    </tr>\n",
       "    <tr>\n",
       "      <th>Date</th>\n",
       "      <th></th>\n",
       "      <th></th>\n",
       "      <th></th>\n",
       "      <th></th>\n",
       "    </tr>\n",
       "  </thead>\n",
       "  <tbody>\n",
       "    <tr>\n",
       "      <th>2020-01-29</th>\n",
       "      <td>0</td>\n",
       "      <td>0.0</td>\n",
       "      <td>0.000000</td>\n",
       "      <td>0.000000</td>\n",
       "    </tr>\n",
       "    <tr>\n",
       "      <th>2020-01-30</th>\n",
       "      <td>0</td>\n",
       "      <td>0.0</td>\n",
       "      <td>0.000000</td>\n",
       "      <td>0.000000</td>\n",
       "    </tr>\n",
       "    <tr>\n",
       "      <th>2020-01-31</th>\n",
       "      <td>0</td>\n",
       "      <td>0.0</td>\n",
       "      <td>0.000000</td>\n",
       "      <td>0.000000</td>\n",
       "    </tr>\n",
       "    <tr>\n",
       "      <th>2020-02-01</th>\n",
       "      <td>0</td>\n",
       "      <td>0.0</td>\n",
       "      <td>0.000000</td>\n",
       "      <td>0.000000</td>\n",
       "    </tr>\n",
       "    <tr>\n",
       "      <th>2020-02-02</th>\n",
       "      <td>0</td>\n",
       "      <td>0.0</td>\n",
       "      <td>0.000000</td>\n",
       "      <td>0.000000</td>\n",
       "    </tr>\n",
       "    <tr>\n",
       "      <th>...</th>\n",
       "      <td>...</td>\n",
       "      <td>...</td>\n",
       "      <td>...</td>\n",
       "      <td>...</td>\n",
       "    </tr>\n",
       "    <tr>\n",
       "      <th>2021-10-18</th>\n",
       "      <td>149208</td>\n",
       "      <td>300.0</td>\n",
       "      <td>0.008811</td>\n",
       "      <td>-0.000197</td>\n",
       "    </tr>\n",
       "    <tr>\n",
       "      <th>2021-10-19</th>\n",
       "      <td>149349</td>\n",
       "      <td>275.0</td>\n",
       "      <td>0.008536</td>\n",
       "      <td>-0.000275</td>\n",
       "    </tr>\n",
       "    <tr>\n",
       "      <th>2021-10-20</th>\n",
       "      <td>149598</td>\n",
       "      <td>263.0</td>\n",
       "      <td>0.008267</td>\n",
       "      <td>-0.000269</td>\n",
       "    </tr>\n",
       "    <tr>\n",
       "      <th>2021-10-21</th>\n",
       "      <td>149833</td>\n",
       "      <td>257.0</td>\n",
       "      <td>0.007995</td>\n",
       "      <td>-0.000273</td>\n",
       "    </tr>\n",
       "    <tr>\n",
       "      <th>2021-10-22</th>\n",
       "      <td>150104</td>\n",
       "      <td>295.0</td>\n",
       "      <td>0.007680</td>\n",
       "      <td>-0.000315</td>\n",
       "    </tr>\n",
       "  </tbody>\n",
       "</table>\n",
       "<p>633 rows × 4 columns</p>\n",
       "</div>"
      ],
      "text/plain": [
       "            Total Cases  Daily New Cases 7d Avg  Infection Rate  \\\n",
       "Date                                                              \n",
       "2020-01-29            0                     0.0        0.000000   \n",
       "2020-01-30            0                     0.0        0.000000   \n",
       "2020-01-31            0                     0.0        0.000000   \n",
       "2020-02-01            0                     0.0        0.000000   \n",
       "2020-02-02            0                     0.0        0.000000   \n",
       "...                 ...                     ...             ...   \n",
       "2021-10-18       149208                   300.0        0.008811   \n",
       "2021-10-19       149349                   275.0        0.008536   \n",
       "2021-10-20       149598                   263.0        0.008267   \n",
       "2021-10-21       149833                   257.0        0.007995   \n",
       "2021-10-22       150104                   295.0        0.007680   \n",
       "\n",
       "            Change in Infection Rate  \n",
       "Date                                  \n",
       "2020-01-29                  0.000000  \n",
       "2020-01-30                  0.000000  \n",
       "2020-01-31                  0.000000  \n",
       "2020-02-01                  0.000000  \n",
       "2020-02-02                  0.000000  \n",
       "...                              ...  \n",
       "2021-10-18                 -0.000197  \n",
       "2021-10-19                 -0.000275  \n",
       "2021-10-20                 -0.000269  \n",
       "2021-10-21                 -0.000273  \n",
       "2021-10-22                 -0.000315  \n",
       "\n",
       "[633 rows x 4 columns]"
      ]
     },
     "execution_count": 12,
     "metadata": {},
     "output_type": "execute_result"
    }
   ],
   "source": [
    "case_data_mke2"
   ]
  },
  {
   "cell_type": "code",
   "execution_count": 13,
   "metadata": {},
   "outputs": [],
   "source": [
    "mandates_mke2 = mandates_mke[['date','Face_Masks_Required_in_Public']]\n",
    "mandates_mke2.set_index('date',drop=True,inplace=True)"
   ]
  },
  {
   "cell_type": "code",
   "execution_count": 14,
   "metadata": {},
   "outputs": [],
   "source": [
    "combined_data = case_data_mke2.join(mandates_mke2,on=None,how='left')"
   ]
  },
  {
   "cell_type": "code",
   "execution_count": 15,
   "metadata": {},
   "outputs": [],
   "source": [
    "combined_data['Face_Masks_Required_in_Public'] = combined_data['Face_Masks_Required_in_Public'].fillna(value='No')"
   ]
  },
  {
   "cell_type": "code",
   "execution_count": 16,
   "metadata": {},
   "outputs": [
    {
     "name": "stderr",
     "output_type": "stream",
     "text": [
      "<ipython-input-16-7078d33ec546>:1: SettingWithCopyWarning: \n",
      "A value is trying to be set on a copy of a slice from a DataFrame\n",
      "\n",
      "See the caveats in the documentation: https://pandas.pydata.org/pandas-docs/stable/user_guide/indexing.html#returning-a-view-versus-a-copy\n",
      "  combined_data['Face_Masks_Required_in_Public'][combined_data['Face_Masks_Required_in_Public']=='No'] = 0\n",
      "<ipython-input-16-7078d33ec546>:2: SettingWithCopyWarning: \n",
      "A value is trying to be set on a copy of a slice from a DataFrame\n",
      "\n",
      "See the caveats in the documentation: https://pandas.pydata.org/pandas-docs/stable/user_guide/indexing.html#returning-a-view-versus-a-copy\n",
      "  combined_data['Face_Masks_Required_in_Public'][combined_data['Face_Masks_Required_in_Public']=='Yes'] = 1\n"
     ]
    }
   ],
   "source": [
    "combined_data['Face_Masks_Required_in_Public'][combined_data['Face_Masks_Required_in_Public']=='No'] = 0\n",
    "combined_data['Face_Masks_Required_in_Public'][combined_data['Face_Masks_Required_in_Public']=='Yes'] = 1"
   ]
  },
  {
   "cell_type": "code",
   "execution_count": 17,
   "metadata": {},
   "outputs": [
    {
     "data": {
      "text/html": [
       "<div>\n",
       "<style scoped>\n",
       "    .dataframe tbody tr th:only-of-type {\n",
       "        vertical-align: middle;\n",
       "    }\n",
       "\n",
       "    .dataframe tbody tr th {\n",
       "        vertical-align: top;\n",
       "    }\n",
       "\n",
       "    .dataframe thead th {\n",
       "        text-align: right;\n",
       "    }\n",
       "</style>\n",
       "<table border=\"1\" class=\"dataframe\">\n",
       "  <thead>\n",
       "    <tr style=\"text-align: right;\">\n",
       "      <th></th>\n",
       "      <th>Total Cases</th>\n",
       "      <th>Daily New Cases 7d Avg</th>\n",
       "      <th>Infection Rate</th>\n",
       "      <th>Change in Infection Rate</th>\n",
       "      <th>Face_Masks_Required_in_Public</th>\n",
       "    </tr>\n",
       "    <tr>\n",
       "      <th>Date</th>\n",
       "      <th></th>\n",
       "      <th></th>\n",
       "      <th></th>\n",
       "      <th></th>\n",
       "      <th></th>\n",
       "    </tr>\n",
       "  </thead>\n",
       "  <tbody>\n",
       "    <tr>\n",
       "      <th>2020-01-29</th>\n",
       "      <td>0</td>\n",
       "      <td>0.0</td>\n",
       "      <td>0.0</td>\n",
       "      <td>0.0</td>\n",
       "      <td>0</td>\n",
       "    </tr>\n",
       "    <tr>\n",
       "      <th>2020-01-30</th>\n",
       "      <td>0</td>\n",
       "      <td>0.0</td>\n",
       "      <td>0.0</td>\n",
       "      <td>0.0</td>\n",
       "      <td>0</td>\n",
       "    </tr>\n",
       "    <tr>\n",
       "      <th>2020-01-31</th>\n",
       "      <td>0</td>\n",
       "      <td>0.0</td>\n",
       "      <td>0.0</td>\n",
       "      <td>0.0</td>\n",
       "      <td>0</td>\n",
       "    </tr>\n",
       "    <tr>\n",
       "      <th>2020-02-01</th>\n",
       "      <td>0</td>\n",
       "      <td>0.0</td>\n",
       "      <td>0.0</td>\n",
       "      <td>0.0</td>\n",
       "      <td>0</td>\n",
       "    </tr>\n",
       "    <tr>\n",
       "      <th>2020-02-02</th>\n",
       "      <td>0</td>\n",
       "      <td>0.0</td>\n",
       "      <td>0.0</td>\n",
       "      <td>0.0</td>\n",
       "      <td>0</td>\n",
       "    </tr>\n",
       "  </tbody>\n",
       "</table>\n",
       "</div>"
      ],
      "text/plain": [
       "            Total Cases  Daily New Cases 7d Avg  Infection Rate  \\\n",
       "Date                                                              \n",
       "2020-01-29            0                     0.0             0.0   \n",
       "2020-01-30            0                     0.0             0.0   \n",
       "2020-01-31            0                     0.0             0.0   \n",
       "2020-02-01            0                     0.0             0.0   \n",
       "2020-02-02            0                     0.0             0.0   \n",
       "\n",
       "            Change in Infection Rate Face_Masks_Required_in_Public  \n",
       "Date                                                                \n",
       "2020-01-29                       0.0                             0  \n",
       "2020-01-30                       0.0                             0  \n",
       "2020-01-31                       0.0                             0  \n",
       "2020-02-01                       0.0                             0  \n",
       "2020-02-02                       0.0                             0  "
      ]
     },
     "execution_count": 17,
     "metadata": {},
     "output_type": "execute_result"
    }
   ],
   "source": [
    "combined_data.head(5)"
   ]
  },
  {
   "cell_type": "code",
   "execution_count": 84,
   "metadata": {},
   "outputs": [
    {
     "data": {
      "image/png": "[encoded data removed]",
      "text/plain": [
       "<Figure size 576x864 with 2 Axes>"
      ]
     },
     "metadata": {
      "needs_background": "light"
     },
     "output_type": "display_data"
    }
   ],
   "source": [
    "#fig, (ax1,ax2,ax3) = plt.subplots(3,1,sharex=True)\n",
    "\n",
    "x = combined_data.index.to_numpy()\n",
    "y1 = combined_data['Infection Rate'].to_numpy()\n",
    "y2 = combined_data['Change in Infection Rate'].to_numpy()\n",
    "c = combined_data['Face_Masks_Required_in_Public'].to_numpy()\n",
    "\n",
    "fig, (ax1,ax2) = plt.subplots(2,1,sharex=True)\n",
    "ax1.plot(x,y2,linewidth=2)\n",
    "ax1.plot(x[c==1],y2[c==1],linewidth=2.5)\n",
    "ax1.set_title('Change in Daily Infection Rate, Milwaukee County, Wisconsin')\n",
    "ax1.set_ylabel('Change in Daily Infection Rate')\n",
    "ax1.set_xlabel('Date')\n",
    "ax1.legend(['No mask mandate','Mask mandate'])\n",
    "ax1.grid(b=True)\n",
    "\n",
    "ax2.plot(x,y1,linewidth=2)\n",
    "ax2.plot(x[c==1],y1[c==1],linewidth=2.5)\n",
    "ax2.set_title('Daily Infection Rate, Milwaukee County, Wisconsin')\n",
    "ax2.set_ylabel('Daily Infection Rate')\n",
    "ax2.set_xlabel('Date')\n",
    "ax2.legend(['No mask mandate','Mask mandate'])\n",
    "ax2.grid(b=True)\n",
    "\n",
    "fig.set_size_inches(8,12)\n",
    "fig.autofmt_xdate()"
   ]
  },
  {
   "cell_type": "code",
   "execution_count": 171,
   "metadata": {},
   "outputs": [],
   "source": [
    "def get_coeff(start_date,end_date):\n",
    "    mask = (combined_data.index >= start_date) & (combined_data.index <= end_date)\n",
    "    df = combined_data.loc[mask]\n",
    "    ir = df['Infection Rate'].to_numpy()\n",
    "    x = np.arange(len(ir))\n",
    "    coeffs = np.polyfit(x, np.log(ir), 1)\n",
    "    #print(coeffs[0])\n",
    "    fig,ax = plt.subplots()\n",
    "    ax.scatter(x,ir)\n",
    "    ax.plot(x,np.exp(coeffs[1])*np.exp(coeffs[0]*x))\n",
    "    #ax.legend(['Actual','Fit'])\n",
    "    plt.show()\n",
    "    return(coeffs[0])"
   ]
  },
  {
   "cell_type": "markdown",
   "metadata": {},
   "source": [
    "Initial wave of infections in March 2020. Test availability is not yet widespread."
   ]
  },
  {
   "cell_type": "code",
   "execution_count": 225,
   "metadata": {},
   "outputs": [
    {
     "data": {
      "image/png": "[encoded data removed]",
      "text/plain": [
       "<Figure size 432x288 with 1 Axes>"
      ]
     },
     "metadata": {
      "needs_background": "light"
     },
     "output_type": "display_data"
    },
    {
     "data": {
      "text/plain": [
       "0.11988668801387477"
      ]
     },
     "execution_count": 225,
     "metadata": {},
     "output_type": "execute_result"
    }
   ],
   "source": [
    "get_coeff('2020-03-20','2020-04-01')"
   ]
  },
  {
   "cell_type": "markdown",
   "metadata": {},
   "source": [
    "Continuation of initial wave"
   ]
  },
  {
   "cell_type": "code",
   "execution_count": 204,
   "metadata": {},
   "outputs": [
    {
     "data": {
      "image/png": "[encoded data removed]",
      "text/plain": [
       "<Figure size 432x288 with 1 Axes>"
      ]
     },
     "metadata": {
      "needs_background": "light"
     },
     "output_type": "display_data"
    },
    {
     "data": {
      "text/plain": [
       "0.03214343630890934"
      ]
     },
     "execution_count": 204,
     "metadata": {},
     "output_type": "execute_result"
    }
   ],
   "source": [
    "get_coeff('2020-04-25','2020-05-29')"
   ]
  },
  {
   "cell_type": "markdown",
   "metadata": {},
   "source": [
    "Second wave of infections in summer 2020. Tests were pretty easy to get by now."
   ]
  },
  {
   "cell_type": "code",
   "execution_count": 203,
   "metadata": {},
   "outputs": [
    {
     "data": {
      "image/png": "[encoded data removed]",
      "text/plain": [
       "<Figure size 432x288 with 1 Axes>"
      ]
     },
     "metadata": {
      "needs_background": "light"
     },
     "output_type": "display_data"
    },
    {
     "data": {
      "text/plain": [
       "0.03827072068777615"
      ]
     },
     "execution_count": 203,
     "metadata": {},
     "output_type": "execute_result"
    }
   ],
   "source": [
    "get_coeff('2020-06-25','2020-07-21')"
   ]
  },
  {
   "cell_type": "markdown",
   "metadata": {},
   "source": [
    "Third wave of infections in fall 2020"
   ]
  },
  {
   "cell_type": "code",
   "execution_count": 201,
   "metadata": {},
   "outputs": [
    {
     "data": {
      "image/png": "[encoded data removed]",
      "text/plain": [
       "<Figure size 432x288 with 1 Axes>"
      ]
     },
     "metadata": {
      "needs_background": "light"
     },
     "output_type": "display_data"
    },
    {
     "data": {
      "text/plain": [
       "0.038294842868225674"
      ]
     },
     "execution_count": 201,
     "metadata": {},
     "output_type": "execute_result"
    }
   ],
   "source": [
    "get_coeff('2020-09-10','2020-10-30')"
   ]
  },
  {
   "cell_type": "markdown",
   "metadata": {},
   "source": [
    "Continuation of third wave of infections in fall 2020"
   ]
  },
  {
   "cell_type": "code",
   "execution_count": 208,
   "metadata": {},
   "outputs": [
    {
     "data": {
      "image/png": "[encoded data removed]",
      "text/plain": [
       "<Figure size 432x288 with 1 Axes>"
      ]
     },
     "metadata": {
      "needs_background": "light"
     },
     "output_type": "display_data"
    },
    {
     "data": {
      "text/plain": [
       "0.01370492108678027"
      ]
     },
     "execution_count": 208,
     "metadata": {},
     "output_type": "execute_result"
    }
   ],
   "source": [
    "get_coeff('2020-11-01','2020-11-15')"
   ]
  },
  {
   "cell_type": "markdown",
   "metadata": {},
   "source": [
    "Fourth wave of infections in spring 2021, prior to mass vaccination and Delta variant\n",
    "\n",
    "Note that the exponential coeff is smaller here, can we attribute that to the mask mandate?"
   ]
  },
  {
   "cell_type": "code",
   "execution_count": 209,
   "metadata": {},
   "outputs": [
    {
     "data": {
      "image/png": "[encoded data removed]",
      "text/plain": [
       "<Figure size 432x288 with 1 Axes>"
      ]
     },
     "metadata": {
      "needs_background": "light"
     },
     "output_type": "display_data"
    },
    {
     "data": {
      "text/plain": [
       "0.024989844633347812"
      ]
     },
     "execution_count": 209,
     "metadata": {},
     "output_type": "execute_result"
    }
   ],
   "source": [
    "get_coeff('2021-03-17','2021-04-05')"
   ]
  },
  {
   "cell_type": "markdown",
   "metadata": {},
   "source": [
    "Fifth wave of infections in summer 2021. Delta variant is widespread, people are still getting vaccinated"
   ]
  },
  {
   "cell_type": "code",
   "execution_count": 217,
   "metadata": {},
   "outputs": [
    {
     "data": {
      "image/png": "[encoded data removed]",
      "text/plain": [
       "<Figure size 432x288 with 1 Axes>"
      ]
     },
     "metadata": {
      "needs_background": "light"
     },
     "output_type": "display_data"
    },
    {
     "data": {
      "text/plain": [
       "0.08112442739045556"
      ]
     },
     "execution_count": 217,
     "metadata": {},
     "output_type": "execute_result"
    }
   ],
   "source": [
    "get_coeff('2021-07-01','2021-08-07')"
   ]
  },
  {
   "cell_type": "markdown",
   "metadata": {},
   "source": [
    "Continuation of previous Delta wave, fall 2021. Vaccination uptake has increased"
   ]
  },
  {
   "cell_type": "code",
   "execution_count": 219,
   "metadata": {},
   "outputs": [
    {
     "data": {
      "image/png": "[encoded data removed]",
      "text/plain": [
       "<Figure size 432x288 with 1 Axes>"
      ]
     },
     "metadata": {
      "needs_background": "light"
     },
     "output_type": "display_data"
    },
    {
     "data": {
      "text/plain": [
       "0.011245860202464618"
      ]
     },
     "execution_count": 219,
     "metadata": {},
     "output_type": "execute_result"
    }
   ],
   "source": [
    "get_coeff('2021-09-07','2021-10-01')"
   ]
  },
  {
   "cell_type": "code",
   "execution_count": null,
   "metadata": {},
   "outputs": [],
   "source": []
  }
 ],
 "metadata": {
  "kernelspec": {
   "display_name": "Python 3 (ipykernel)",
   "language": "python",
   "name": "python3"
  },
  "language_info": {
   "codemirror_mode": {
    "name": "ipython",
    "version": 3
   },
   "file_extension": ".py",
   "mimetype": "text/x-python",
   "name": "python",
   "nbconvert_exporter": "python",
   "pygments_lexer": "ipython3",
   "version": "3.9.7"
  }
 },
 "nbformat": 4,
 "nbformat_minor": 4
}
