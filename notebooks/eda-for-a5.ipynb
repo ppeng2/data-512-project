{
 "cells": [
  {
   "cell_type": "code",
   "execution_count": 71,
   "metadata": {},
   "outputs": [],
   "source": [
    "import pandas as pd\n",
    "import numpy as np\n",
    "import matplotlib.pyplot as plt\n",
    "import datetime as dt"
   ]
  },
  {
   "cell_type": "code",
   "execution_count": 2,
   "metadata": {},
   "outputs": [],
   "source": [
    "df = pd.read_csv('data/accelavacantbuilding.csv')"
   ]
  },
  {
   "cell_type": "code",
   "execution_count": 32,
   "metadata": {},
   "outputs": [],
   "source": [
    "df['yr_month'] = df['DATEOPENED'].map(lambda x: pd.to_datetime(str(pd.to_datetime(x).year)+'-'+str(pd.to_datetime(x).month)+'-'+'01'))"
   ]
  },
  {
   "cell_type": "code",
   "execution_count": 34,
   "metadata": {},
   "outputs": [],
   "source": [
    "df_gb = df.groupby(df['yr_month']).count()"
   ]
  },
  {
   "cell_type": "code",
   "execution_count": 37,
   "metadata": {},
   "outputs": [
    {
     "data": {
      "text/html": [
       "<div>\n",
       "<style scoped>\n",
       "    .dataframe tbody tr th:only-of-type {\n",
       "        vertical-align: middle;\n",
       "    }\n",
       "\n",
       "    .dataframe tbody tr th {\n",
       "        vertical-align: top;\n",
       "    }\n",
       "\n",
       "    .dataframe thead th {\n",
       "        text-align: right;\n",
       "    }\n",
       "</style>\n",
       "<table border=\"1\" class=\"dataframe\">\n",
       "  <thead>\n",
       "    <tr style=\"text-align: right;\">\n",
       "      <th></th>\n",
       "      <th>DATEOPENED</th>\n",
       "      <th>ADDRFULLLINE</th>\n",
       "      <th>LANDUSE</th>\n",
       "      <th>PARCELNBR</th>\n",
       "      <th>VALUEIMPROVED</th>\n",
       "      <th>AldermanicDistrict</th>\n",
       "      <th>ZipCode</th>\n",
       "      <th>CensusTract</th>\n",
       "      <th>Neighborhood</th>\n",
       "    </tr>\n",
       "    <tr>\n",
       "      <th>yr_month</th>\n",
       "      <th></th>\n",
       "      <th></th>\n",
       "      <th></th>\n",
       "      <th></th>\n",
       "      <th></th>\n",
       "      <th></th>\n",
       "      <th></th>\n",
       "      <th></th>\n",
       "      <th></th>\n",
       "    </tr>\n",
       "  </thead>\n",
       "  <tbody>\n",
       "    <tr>\n",
       "      <th>2002-02-01</th>\n",
       "      <td>3</td>\n",
       "      <td>3</td>\n",
       "      <td>3</td>\n",
       "      <td>3</td>\n",
       "      <td>3</td>\n",
       "      <td>3</td>\n",
       "      <td>3</td>\n",
       "      <td>3</td>\n",
       "      <td>2</td>\n",
       "    </tr>\n",
       "    <tr>\n",
       "      <th>2002-06-01</th>\n",
       "      <td>1</td>\n",
       "      <td>1</td>\n",
       "      <td>1</td>\n",
       "      <td>1</td>\n",
       "      <td>1</td>\n",
       "      <td>1</td>\n",
       "      <td>1</td>\n",
       "      <td>1</td>\n",
       "      <td>1</td>\n",
       "    </tr>\n",
       "    <tr>\n",
       "      <th>2002-10-01</th>\n",
       "      <td>1</td>\n",
       "      <td>1</td>\n",
       "      <td>1</td>\n",
       "      <td>1</td>\n",
       "      <td>1</td>\n",
       "      <td>1</td>\n",
       "      <td>1</td>\n",
       "      <td>1</td>\n",
       "      <td>1</td>\n",
       "    </tr>\n",
       "    <tr>\n",
       "      <th>2009-08-01</th>\n",
       "      <td>1</td>\n",
       "      <td>1</td>\n",
       "      <td>1</td>\n",
       "      <td>1</td>\n",
       "      <td>1</td>\n",
       "      <td>1</td>\n",
       "      <td>1</td>\n",
       "      <td>1</td>\n",
       "      <td>1</td>\n",
       "    </tr>\n",
       "    <tr>\n",
       "      <th>2009-09-01</th>\n",
       "      <td>1</td>\n",
       "      <td>1</td>\n",
       "      <td>1</td>\n",
       "      <td>1</td>\n",
       "      <td>1</td>\n",
       "      <td>1</td>\n",
       "      <td>1</td>\n",
       "      <td>1</td>\n",
       "      <td>1</td>\n",
       "    </tr>\n",
       "    <tr>\n",
       "      <th>...</th>\n",
       "      <td>...</td>\n",
       "      <td>...</td>\n",
       "      <td>...</td>\n",
       "      <td>...</td>\n",
       "      <td>...</td>\n",
       "      <td>...</td>\n",
       "      <td>...</td>\n",
       "      <td>...</td>\n",
       "      <td>...</td>\n",
       "    </tr>\n",
       "    <tr>\n",
       "      <th>2021-08-01</th>\n",
       "      <td>65</td>\n",
       "      <td>65</td>\n",
       "      <td>65</td>\n",
       "      <td>65</td>\n",
       "      <td>65</td>\n",
       "      <td>65</td>\n",
       "      <td>65</td>\n",
       "      <td>65</td>\n",
       "      <td>65</td>\n",
       "    </tr>\n",
       "    <tr>\n",
       "      <th>2021-09-01</th>\n",
       "      <td>43</td>\n",
       "      <td>43</td>\n",
       "      <td>43</td>\n",
       "      <td>43</td>\n",
       "      <td>43</td>\n",
       "      <td>43</td>\n",
       "      <td>43</td>\n",
       "      <td>43</td>\n",
       "      <td>43</td>\n",
       "    </tr>\n",
       "    <tr>\n",
       "      <th>2021-10-01</th>\n",
       "      <td>31</td>\n",
       "      <td>31</td>\n",
       "      <td>31</td>\n",
       "      <td>31</td>\n",
       "      <td>31</td>\n",
       "      <td>31</td>\n",
       "      <td>31</td>\n",
       "      <td>31</td>\n",
       "      <td>28</td>\n",
       "    </tr>\n",
       "    <tr>\n",
       "      <th>2021-11-01</th>\n",
       "      <td>4</td>\n",
       "      <td>4</td>\n",
       "      <td>4</td>\n",
       "      <td>4</td>\n",
       "      <td>4</td>\n",
       "      <td>4</td>\n",
       "      <td>4</td>\n",
       "      <td>4</td>\n",
       "      <td>4</td>\n",
       "    </tr>\n",
       "    <tr>\n",
       "      <th>2021-12-01</th>\n",
       "      <td>1</td>\n",
       "      <td>1</td>\n",
       "      <td>1</td>\n",
       "      <td>1</td>\n",
       "      <td>1</td>\n",
       "      <td>1</td>\n",
       "      <td>1</td>\n",
       "      <td>1</td>\n",
       "      <td>1</td>\n",
       "    </tr>\n",
       "  </tbody>\n",
       "</table>\n",
       "<p>151 rows × 9 columns</p>\n",
       "</div>"
      ],
      "text/plain": [
       "            DATEOPENED  ADDRFULLLINE  LANDUSE  PARCELNBR  VALUEIMPROVED  \\\n",
       "yr_month                                                                  \n",
       "2002-02-01           3             3        3          3              3   \n",
       "2002-06-01           1             1        1          1              1   \n",
       "2002-10-01           1             1        1          1              1   \n",
       "2009-08-01           1             1        1          1              1   \n",
       "2009-09-01           1             1        1          1              1   \n",
       "...                ...           ...      ...        ...            ...   \n",
       "2021-08-01          65            65       65         65             65   \n",
       "2021-09-01          43            43       43         43             43   \n",
       "2021-10-01          31            31       31         31             31   \n",
       "2021-11-01           4             4        4          4              4   \n",
       "2021-12-01           1             1        1          1              1   \n",
       "\n",
       "            AldermanicDistrict  ZipCode  CensusTract  Neighborhood  \n",
       "yr_month                                                            \n",
       "2002-02-01                   3        3            3             2  \n",
       "2002-06-01                   1        1            1             1  \n",
       "2002-10-01                   1        1            1             1  \n",
       "2009-08-01                   1        1            1             1  \n",
       "2009-09-01                   1        1            1             1  \n",
       "...                        ...      ...          ...           ...  \n",
       "2021-08-01                  65       65           65            65  \n",
       "2021-09-01                  43       43           43            43  \n",
       "2021-10-01                  31       31           31            28  \n",
       "2021-11-01                   4        4            4             4  \n",
       "2021-12-01                   1        1            1             1  \n",
       "\n",
       "[151 rows x 9 columns]"
      ]
     },
     "execution_count": 37,
     "metadata": {},
     "output_type": "execute_result"
    }
   ],
   "source": [
    "df_gb"
   ]
  },
  {
   "cell_type": "code",
   "execution_count": 44,
   "metadata": {},
   "outputs": [
    {
     "data": {
      "image/png": "[encoded data removed]",
      "text/plain": [
       "<Figure size 432x288 with 1 Axes>"
      ]
     },
     "metadata": {
      "needs_background": "light"
     },
     "output_type": "display_data"
    }
   ],
   "source": [
    "fig,ax = plt.subplots()\n",
    "ax.plot(df_gb.index.map(lambda x: x.month)[df_gb.index.map(lambda x: x.year) == 2018],df_gb['PARCELNBR'][df_gb.index.map(lambda x: x.year) == 2018])\n",
    "ax.plot(df_gb.index.map(lambda x: x.month)[df_gb.index.map(lambda x: x.year) == 2019],df_gb['PARCELNBR'][df_gb.index.map(lambda x: x.year) == 2019])\n",
    "ax.plot(df_gb.index.map(lambda x: x.month)[df_gb.index.map(lambda x: x.year) == 2020],df_gb['PARCELNBR'][df_gb.index.map(lambda x: x.year) == 2020])\n",
    "ax.plot(df_gb.index.map(lambda x: x.month)[df_gb.index.map(lambda x: x.year) == 2021],df_gb['PARCELNBR'][df_gb.index.map(lambda x: x.year) == 2021])\n",
    "ax.legend(['2018','2019','2020','2021'])\n",
    "fig.show()"
   ]
  },
  {
   "cell_type": "code",
   "execution_count": 19,
   "metadata": {},
   "outputs": [],
   "source": [
    "bldg = pd.read_csv('data/buildingpermits.csv')"
   ]
  },
  {
   "cell_type": "code",
   "execution_count": 21,
   "metadata": {},
   "outputs": [],
   "source": [
    "bldg['yr_month'] = bldg['Date Opened'].map(lambda x: pd.to_datetime(str(pd.to_datetime(x).year)+'-'+str(pd.to_datetime(x).month)+'-'+'01'))"
   ]
  },
  {
   "cell_type": "code",
   "execution_count": 47,
   "metadata": {},
   "outputs": [
    {
     "data": {
      "text/html": [
       "<div>\n",
       "<style scoped>\n",
       "    .dataframe tbody tr th:only-of-type {\n",
       "        vertical-align: middle;\n",
       "    }\n",
       "\n",
       "    .dataframe tbody tr th {\n",
       "        vertical-align: top;\n",
       "    }\n",
       "\n",
       "    .dataframe thead th {\n",
       "        text-align: right;\n",
       "    }\n",
       "</style>\n",
       "<table border=\"1\" class=\"dataframe\">\n",
       "  <thead>\n",
       "    <tr style=\"text-align: right;\">\n",
       "      <th></th>\n",
       "      <th>Date Opened</th>\n",
       "      <th>Address</th>\n",
       "      <th>Record ID</th>\n",
       "      <th>Permit Type</th>\n",
       "      <th>Status</th>\n",
       "      <th>Date Issued</th>\n",
       "      <th>Construction Total Cost</th>\n",
       "      <th>Use of Building</th>\n",
       "      <th>Dwelling units impact</th>\n",
       "      <th>yr_month</th>\n",
       "    </tr>\n",
       "    <tr>\n",
       "      <th>yr_month</th>\n",
       "      <th></th>\n",
       "      <th></th>\n",
       "      <th></th>\n",
       "      <th></th>\n",
       "      <th></th>\n",
       "      <th></th>\n",
       "      <th></th>\n",
       "      <th></th>\n",
       "      <th></th>\n",
       "      <th></th>\n",
       "    </tr>\n",
       "  </thead>\n",
       "  <tbody>\n",
       "    <tr>\n",
       "      <th>2018-01-01</th>\n",
       "      <td>138</td>\n",
       "      <td>138</td>\n",
       "      <td>138</td>\n",
       "      <td>138</td>\n",
       "      <td>138</td>\n",
       "      <td>138</td>\n",
       "      <td>138</td>\n",
       "      <td>79</td>\n",
       "      <td>67</td>\n",
       "      <td>138</td>\n",
       "    </tr>\n",
       "    <tr>\n",
       "      <th>2018-02-01</th>\n",
       "      <td>139</td>\n",
       "      <td>139</td>\n",
       "      <td>139</td>\n",
       "      <td>139</td>\n",
       "      <td>139</td>\n",
       "      <td>139</td>\n",
       "      <td>139</td>\n",
       "      <td>78</td>\n",
       "      <td>75</td>\n",
       "      <td>139</td>\n",
       "    </tr>\n",
       "    <tr>\n",
       "      <th>2018-03-01</th>\n",
       "      <td>152</td>\n",
       "      <td>152</td>\n",
       "      <td>152</td>\n",
       "      <td>152</td>\n",
       "      <td>152</td>\n",
       "      <td>152</td>\n",
       "      <td>152</td>\n",
       "      <td>85</td>\n",
       "      <td>83</td>\n",
       "      <td>152</td>\n",
       "    </tr>\n",
       "    <tr>\n",
       "      <th>2018-04-01</th>\n",
       "      <td>188</td>\n",
       "      <td>188</td>\n",
       "      <td>188</td>\n",
       "      <td>188</td>\n",
       "      <td>188</td>\n",
       "      <td>188</td>\n",
       "      <td>188</td>\n",
       "      <td>99</td>\n",
       "      <td>105</td>\n",
       "      <td>188</td>\n",
       "    </tr>\n",
       "    <tr>\n",
       "      <th>2018-05-01</th>\n",
       "      <td>196</td>\n",
       "      <td>196</td>\n",
       "      <td>196</td>\n",
       "      <td>196</td>\n",
       "      <td>196</td>\n",
       "      <td>196</td>\n",
       "      <td>196</td>\n",
       "      <td>103</td>\n",
       "      <td>122</td>\n",
       "      <td>196</td>\n",
       "    </tr>\n",
       "    <tr>\n",
       "      <th>2018-06-01</th>\n",
       "      <td>199</td>\n",
       "      <td>199</td>\n",
       "      <td>199</td>\n",
       "      <td>199</td>\n",
       "      <td>199</td>\n",
       "      <td>199</td>\n",
       "      <td>199</td>\n",
       "      <td>102</td>\n",
       "      <td>104</td>\n",
       "      <td>199</td>\n",
       "    </tr>\n",
       "    <tr>\n",
       "      <th>2018-07-01</th>\n",
       "      <td>142</td>\n",
       "      <td>142</td>\n",
       "      <td>142</td>\n",
       "      <td>142</td>\n",
       "      <td>142</td>\n",
       "      <td>142</td>\n",
       "      <td>142</td>\n",
       "      <td>63</td>\n",
       "      <td>87</td>\n",
       "      <td>142</td>\n",
       "    </tr>\n",
       "    <tr>\n",
       "      <th>2018-08-01</th>\n",
       "      <td>188</td>\n",
       "      <td>188</td>\n",
       "      <td>188</td>\n",
       "      <td>188</td>\n",
       "      <td>188</td>\n",
       "      <td>188</td>\n",
       "      <td>188</td>\n",
       "      <td>106</td>\n",
       "      <td>110</td>\n",
       "      <td>188</td>\n",
       "    </tr>\n",
       "    <tr>\n",
       "      <th>2018-09-01</th>\n",
       "      <td>171</td>\n",
       "      <td>171</td>\n",
       "      <td>171</td>\n",
       "      <td>171</td>\n",
       "      <td>171</td>\n",
       "      <td>171</td>\n",
       "      <td>171</td>\n",
       "      <td>96</td>\n",
       "      <td>90</td>\n",
       "      <td>171</td>\n",
       "    </tr>\n",
       "    <tr>\n",
       "      <th>2018-10-01</th>\n",
       "      <td>209</td>\n",
       "      <td>209</td>\n",
       "      <td>209</td>\n",
       "      <td>209</td>\n",
       "      <td>209</td>\n",
       "      <td>209</td>\n",
       "      <td>209</td>\n",
       "      <td>114</td>\n",
       "      <td>121</td>\n",
       "      <td>209</td>\n",
       "    </tr>\n",
       "  </tbody>\n",
       "</table>\n",
       "</div>"
      ],
      "text/plain": [
       "            Date Opened  Address  Record ID  Permit Type  Status  Date Issued  \\\n",
       "yr_month                                                                        \n",
       "2018-01-01          138      138        138          138     138          138   \n",
       "2018-02-01          139      139        139          139     139          139   \n",
       "2018-03-01          152      152        152          152     152          152   \n",
       "2018-04-01          188      188        188          188     188          188   \n",
       "2018-05-01          196      196        196          196     196          196   \n",
       "2018-06-01          199      199        199          199     199          199   \n",
       "2018-07-01          142      142        142          142     142          142   \n",
       "2018-08-01          188      188        188          188     188          188   \n",
       "2018-09-01          171      171        171          171     171          171   \n",
       "2018-10-01          209      209        209          209     209          209   \n",
       "\n",
       "            Construction Total Cost  Use of Building  Dwelling units impact  \\\n",
       "yr_month                                                                      \n",
       "2018-01-01                      138               79                     67   \n",
       "2018-02-01                      139               78                     75   \n",
       "2018-03-01                      152               85                     83   \n",
       "2018-04-01                      188               99                    105   \n",
       "2018-05-01                      196              103                    122   \n",
       "2018-06-01                      199              102                    104   \n",
       "2018-07-01                      142               63                     87   \n",
       "2018-08-01                      188              106                    110   \n",
       "2018-09-01                      171               96                     90   \n",
       "2018-10-01                      209              114                    121   \n",
       "\n",
       "            yr_month  \n",
       "yr_month              \n",
       "2018-01-01       138  \n",
       "2018-02-01       139  \n",
       "2018-03-01       152  \n",
       "2018-04-01       188  \n",
       "2018-05-01       196  \n",
       "2018-06-01       199  \n",
       "2018-07-01       142  \n",
       "2018-08-01       188  \n",
       "2018-09-01       171  \n",
       "2018-10-01       209  "
      ]
     },
     "execution_count": 47,
     "metadata": {},
     "output_type": "execute_result"
    }
   ],
   "source": [
    "df_gb = bldg[bldg['yr_month'].map(lambda x: x.year) >= 2018].groupby(bldg['yr_month']).count()\n",
    "df_gb.head(10)"
   ]
  },
  {
   "cell_type": "code",
   "execution_count": 48,
   "metadata": {},
   "outputs": [
    {
     "data": {
      "image/png": "[encoded data removed]",
      "text/plain": [
       "<Figure size 432x288 with 1 Axes>"
      ]
     },
     "metadata": {
      "needs_background": "light"
     },
     "output_type": "display_data"
    }
   ],
   "source": [
    "fig,ax = plt.subplots()\n",
    "ax.plot(df_gb.index.map(lambda x: x.month)[df_gb.index.map(lambda x: x.year) == 2018],df_gb['Record ID'][df_gb.index.map(lambda x: x.year) == 2018])\n",
    "ax.plot(df_gb.index.map(lambda x: x.month)[df_gb.index.map(lambda x: x.year) == 2019],df_gb['Record ID'][df_gb.index.map(lambda x: x.year) == 2019])\n",
    "ax.plot(df_gb.index.map(lambda x: x.month)[df_gb.index.map(lambda x: x.year) == 2020],df_gb['Record ID'][df_gb.index.map(lambda x: x.year) == 2020])\n",
    "ax.plot(df_gb.index.map(lambda x: x.month)[df_gb.index.map(lambda x: x.year) == 2021],df_gb['Record ID'][df_gb.index.map(lambda x: x.year) == 2021])\n",
    "ax.legend(['2018','2019','2020','2021'])\n",
    "fig.show()"
   ]
  },
  {
   "cell_type": "code",
   "execution_count": 49,
   "metadata": {},
   "outputs": [],
   "source": [
    "df = pd.read_csv('data/trafficaccidents.csv')"
   ]
  },
  {
   "cell_type": "code",
   "execution_count": 50,
   "metadata": {},
   "outputs": [
    {
     "data": {
      "text/html": [
       "<div>\n",
       "<style scoped>\n",
       "    .dataframe tbody tr th:only-of-type {\n",
       "        vertical-align: middle;\n",
       "    }\n",
       "\n",
       "    .dataframe tbody tr th {\n",
       "        vertical-align: top;\n",
       "    }\n",
       "\n",
       "    .dataframe thead th {\n",
       "        text-align: right;\n",
       "    }\n",
       "</style>\n",
       "<table border=\"1\" class=\"dataframe\">\n",
       "  <thead>\n",
       "    <tr style=\"text-align: right;\">\n",
       "      <th></th>\n",
       "      <th>CASENUMBER</th>\n",
       "      <th>CASEDATE</th>\n",
       "      <th>ACCIDENTLOC</th>\n",
       "    </tr>\n",
       "  </thead>\n",
       "  <tbody>\n",
       "    <tr>\n",
       "      <th>0</th>\n",
       "      <td>J9L2RC715J</td>\n",
       "      <td>2021-11-04 20:37:00</td>\n",
       "      <td>N 41ST ST &amp; W HAMPTON AV</td>\n",
       "    </tr>\n",
       "    <tr>\n",
       "      <th>1</th>\n",
       "      <td>J9L08M7RM2</td>\n",
       "      <td>2021-11-04 19:24:00</td>\n",
       "      <td>W BELOIT RD &amp; W BELOIT RD</td>\n",
       "    </tr>\n",
       "    <tr>\n",
       "      <th>2</th>\n",
       "      <td>J9L0HKW1FX</td>\n",
       "      <td>2021-11-04 19:07:00</td>\n",
       "      <td>Location not reported</td>\n",
       "    </tr>\n",
       "    <tr>\n",
       "      <th>3</th>\n",
       "      <td>J9L08M7RM1</td>\n",
       "      <td>2021-11-04 18:11:00</td>\n",
       "      <td>S 13TH ST &amp; W COLLEGE AV</td>\n",
       "    </tr>\n",
       "    <tr>\n",
       "      <th>4</th>\n",
       "      <td>J9L0HKW1FW</td>\n",
       "      <td>2021-11-04 18:08:00</td>\n",
       "      <td>E KEEFE AV &amp; N RICHARDS ST</td>\n",
       "    </tr>\n",
       "    <tr>\n",
       "      <th>5</th>\n",
       "      <td>06L27K4SJW</td>\n",
       "      <td>2021-11-04 16:40:00</td>\n",
       "      <td>S 20TH ST &amp; W VAN NORMAN AV</td>\n",
       "    </tr>\n",
       "    <tr>\n",
       "      <th>6</th>\n",
       "      <td>J9L08M7RM0</td>\n",
       "      <td>2021-11-04 16:04:00</td>\n",
       "      <td>S 1ST ST - Highway 32</td>\n",
       "    </tr>\n",
       "    <tr>\n",
       "      <th>7</th>\n",
       "      <td>J9L08M7RLZ</td>\n",
       "      <td>2021-11-04 15:38:00</td>\n",
       "      <td>S 2ND ST &amp; W LAPHAM BL</td>\n",
       "    </tr>\n",
       "    <tr>\n",
       "      <th>8</th>\n",
       "      <td>J9L0HKW1FV</td>\n",
       "      <td>2021-11-04 15:15:00</td>\n",
       "      <td>S 30TH ST &amp; W GREENFIELD AV</td>\n",
       "    </tr>\n",
       "    <tr>\n",
       "      <th>9</th>\n",
       "      <td>J9L2RP3B49</td>\n",
       "      <td>2021-11-04 15:09:00</td>\n",
       "      <td>N 37TH ST &amp; W WRIGHT ST</td>\n",
       "    </tr>\n",
       "  </tbody>\n",
       "</table>\n",
       "</div>"
      ],
      "text/plain": [
       "   CASENUMBER             CASEDATE                  ACCIDENTLOC\n",
       "0  J9L2RC715J  2021-11-04 20:37:00     N 41ST ST & W HAMPTON AV\n",
       "1  J9L08M7RM2  2021-11-04 19:24:00    W BELOIT RD & W BELOIT RD\n",
       "2  J9L0HKW1FX  2021-11-04 19:07:00        Location not reported\n",
       "3  J9L08M7RM1  2021-11-04 18:11:00     S 13TH ST & W COLLEGE AV\n",
       "4  J9L0HKW1FW  2021-11-04 18:08:00   E KEEFE AV & N RICHARDS ST\n",
       "5  06L27K4SJW  2021-11-04 16:40:00  S 20TH ST & W VAN NORMAN AV\n",
       "6  J9L08M7RM0  2021-11-04 16:04:00        S 1ST ST - Highway 32\n",
       "7  J9L08M7RLZ  2021-11-04 15:38:00       S 2ND ST & W LAPHAM BL\n",
       "8  J9L0HKW1FV  2021-11-04 15:15:00  S 30TH ST & W GREENFIELD AV\n",
       "9  J9L2RP3B49  2021-11-04 15:09:00      N 37TH ST & W WRIGHT ST"
      ]
     },
     "execution_count": 50,
     "metadata": {},
     "output_type": "execute_result"
    }
   ],
   "source": [
    "df.head(10)"
   ]
  },
  {
   "cell_type": "code",
   "execution_count": 87,
   "metadata": {},
   "outputs": [],
   "source": [
    "df['month_year'] = df['CASEDATE'].dt.to_period('W')"
   ]
  },
  {
   "cell_type": "code",
   "execution_count": 88,
   "metadata": {},
   "outputs": [],
   "source": [
    "df.dropna(subset=['CASEDATE'],inplace=True)"
   ]
  },
  {
   "cell_type": "code",
   "execution_count": 89,
   "metadata": {},
   "outputs": [],
   "source": [
    "df_gb = df.groupby(df['month_year']).count()"
   ]
  },
  {
   "cell_type": "code",
   "execution_count": 99,
   "metadata": {},
   "outputs": [
    {
     "data": {
      "text/plain": [
       "<AxesSubplot:xlabel='month_year'>"
      ]
     },
     "execution_count": 99,
     "metadata": {},
     "output_type": "execute_result"
    },
    {
     "data": {
      "image/png": "[encoded data removed]",
      "text/plain": [
       "<Figure size 432x288 with 1 Axes>"
      ]
     },
     "metadata": {
      "needs_background": "light"
     },
     "output_type": "display_data"
    }
   ],
   "source": [
    "df_gb[df_gb.index.year==2020].plot(y='CASENUMBER')"
   ]
  },
  {
   "cell_type": "code",
   "execution_count": 92,
   "metadata": {},
   "outputs": [
    {
     "data": {
      "text/plain": [
       "PeriodIndex(['2006-06-26/2006-07-02', '2006-09-25/2006-10-01',\n",
       "             '2007-01-29/2007-02-04', '2007-02-05/2007-02-11',\n",
       "             '2007-02-19/2007-02-25', '2007-03-05/2007-03-11',\n",
       "             '2007-03-12/2007-03-18', '2007-03-19/2007-03-25',\n",
       "             '2007-03-26/2007-04-01', '2007-04-02/2007-04-08',\n",
       "             ...\n",
       "             '2021-08-30/2021-09-05', '2021-09-06/2021-09-12',\n",
       "             '2021-09-13/2021-09-19', '2021-09-20/2021-09-26',\n",
       "             '2021-09-27/2021-10-03', '2021-10-04/2021-10-10',\n",
       "             '2021-10-11/2021-10-17', '2021-10-18/2021-10-24',\n",
       "             '2021-10-25/2021-10-31', '2021-11-01/2021-11-07'],\n",
       "            dtype='period[W-SUN]', name='month_year', length=771, freq='W-SUN')"
      ]
     },
     "execution_count": 92,
     "metadata": {},
     "output_type": "execute_result"
    }
   ],
   "source": [
    "df_gb.index"
   ]
  },
  {
   "cell_type": "code",
   "execution_count": 86,
   "metadata": {},
   "outputs": [
    {
     "data": {
      "image/png": "[encoded data removed]",
      "text/plain": [
       "<Figure size 432x288 with 1 Axes>"
      ]
     },
     "metadata": {
      "needs_background": "light"
     },
     "output_type": "display_data"
    }
   ],
   "source": [
    "fig,ax = plt.subplots()\n",
    "ax.plot(df_gb.index.map(lambda x: x.month)[df_gb.index.map(lambda x: x.year) == 2018],df_gb['CASENUMBER'][df_gb.index.map(lambda x: x.year) == 2018])\n",
    "ax.plot(df_gb.index.map(lambda x: x.month)[df_gb.index.map(lambda x: x.year) == 2019],df_gb['CASENUMBER'][df_gb.index.map(lambda x: x.year) == 2019])\n",
    "ax.plot(df_gb.index.map(lambda x: x.month)[df_gb.index.map(lambda x: x.year) == 2020],df_gb['CASENUMBER'][df_gb.index.map(lambda x: x.year) == 2020])\n",
    "ax.plot(df_gb.index.map(lambda x: x.month)[df_gb.index.map(lambda x: x.year) == 2021],df_gb['CASENUMBER'][df_gb.index.map(lambda x: x.year) == 2021])\n",
    "ax.legend(['2018','2019','2020','2021'])\n",
    "fig.show()"
   ]
  },
  {
   "cell_type": "code",
   "execution_count": null,
   "metadata": {},
   "outputs": [],
   "source": []
  }
 ],
 "metadata": {
  "kernelspec": {
   "display_name": "Python 3 (ipykernel)",
   "language": "python",
   "name": "python3"
  },
  "language_info": {
   "codemirror_mode": {
    "name": "ipython",
    "version": 3
   },
   "file_extension": ".py",
   "mimetype": "text/x-python",
   "name": "python",
   "nbconvert_exporter": "python",
   "pygments_lexer": "ipython3",
   "version": "3.9.7"
  }
 },
 "nbformat": 4,
 "nbformat_minor": 4
}
